{
 "cells": [
  {
   "cell_type": "markdown",
   "metadata": {},
   "source": [
    "# IBM Data Scienze Professional Certificate Capstone\n",
    "\n",
    "## Segmenting and Clustering Neighborhoods in Toronto and New York. The case for an Italian Restaurant.\n",
    "\n",
    "### Introduction\n",
    "\n",
    "The aim of this project is to provide some insights on the distribution of restaurants in the neighbourhoods of Toronto and New York. In particular we want to identify areas (i.e. clusters of neighbourhoods) where restaurants are common, hence where people like to go out for food, and filter the neighbourhoods in this clusters with only few Italian Restaurants. The study should then provide the basis to analyse more in detail the neighbourhoods identified as potentially good candidates to open an Italian restaurant, and to support the final decision of where to invest.\n",
    "\n",
    "### Data\n",
    "We will collect Toronto and New York neighborhoods data ( the former from the wiki page and the latter from csv), convert it to a pandas dataframe, clean and pre-process it. We will then collect the coordinates of each neighborhood and add them to the dataframe, so that we can use Foursquare location data. \n",
    "\n",
    "Finally, we will explore and cluster  neighborhoods in both cities and prvide insights to someone willing to open an Italian restaurant. We will identify clusters where restaurants are trendy and where people like to go out for food, and filter the neighbourhoods with a low number of Italian Restaurants."
   ]
  },
  {
   "cell_type": "code",
   "execution_count": null,
   "metadata": {},
   "outputs": [],
   "source": []
  }
 ],
 "metadata": {
  "kernelspec": {
   "display_name": "Python 3",
   "language": "python",
   "name": "python3"
  },
  "language_info": {
   "codemirror_mode": {
    "name": "ipython",
    "version": 3
   },
   "file_extension": ".py",
   "mimetype": "text/x-python",
   "name": "python",
   "nbconvert_exporter": "python",
   "pygments_lexer": "ipython3",
   "version": "3.7.4"
  }
 },
 "nbformat": 4,
 "nbformat_minor": 4
}
